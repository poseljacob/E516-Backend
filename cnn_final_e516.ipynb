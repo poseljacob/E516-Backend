{
 "cells": [
  {
   "cell_type": "markdown",
   "source": [
    "### Connect Drive"
   ],
   "metadata": {
    "id": "TxqmuJVEipuk",
    "pycharm": {
     "name": "#%% md\n"
    }
   },
   "id": "TxqmuJVEipuk"
  },
  {
   "cell_type": "code",
   "source": [
    "from google.colab import drive\n",
    "drive.mount('/content/gdrive')\n"
   ],
   "metadata": {
    "colab": {
     "base_uri": "https://localhost:8080/"
    },
    "id": "gothqwHWIeQ-",
    "outputId": "fadfda1f-8b2d-49fb-e43f-2c526c028705",
    "pycharm": {
     "name": "#%%\n"
    }
   },
   "id": "gothqwHWIeQ-",
   "execution_count": 7,
   "outputs": [
    {
     "output_type": "stream",
     "name": "stdout",
     "text": [
      "Drive already mounted at /content/gdrive; to attempt to forcibly remount, call drive.mount(\"/content/gdrive\", force_remount=True).\n"
     ]
    }
   ]
  },
  {
   "cell_type": "markdown",
   "source": [
    "### Unzip Dataset"
   ],
   "metadata": {
    "id": "VSIItqrSjKXo",
    "pycharm": {
     "name": "#%% md\n"
    }
   },
   "id": "VSIItqrSjKXo"
  },
  {
   "cell_type": "code",
   "source": [
    "!unzip gdrive/MyDnrive/UTKFace.zip"
   ],
   "metadata": {
    "colab": {
     "base_uri": "https://localhost:8080/"
    },
    "id": "7EzdRsjFI2yH",
    "outputId": "f6bee699-4339-44b9-e5ee-919256081656",
    "pycharm": {
     "name": "#%%\n"
    }
   },
   "id": "7EzdRsjFI2yH",
   "execution_count": 8,
   "outputs": [
    {
     "output_type": "stream",
     "name": "stdout",
     "text": [
      "Archive:  gdrive/MyDrive/UTKFace.zip\n",
      "replace __MACOSX/._UTKFace? [y]es, [n]o, [A]ll, [N]one, [r]ename: "
     ]
    }
   ]
  },
  {
   "cell_type": "markdown",
   "id": "13618ca5",
   "metadata": {
    "papermill": {
     "duration": 0.098256,
     "end_time": "2022-07-09T17:01:59.516286",
     "exception": false,
     "start_time": "2022-07-09T17:01:59.418030",
     "status": "completed"
    },
    "tags": [],
    "id": "13618ca5",
    "pycharm": {
     "name": "#%% md\n"
    }
   },
   "source": [
    "### Import Modules"
   ]
  },
  {
   "cell_type": "code",
   "execution_count": 9,
   "id": "cb10223f",
   "metadata": {
    "execution": {
     "iopub.execute_input": "2022-07-09T17:01:59.715792Z",
     "iopub.status.busy": "2022-07-09T17:01:59.715301Z",
     "iopub.status.idle": "2022-07-09T17:02:05.287366Z",
     "shell.execute_reply": "2022-07-09T17:02:05.286210Z"
    },
    "papermill": {
     "duration": 5.674776,
     "end_time": "2022-07-09T17:02:05.289885",
     "exception": false,
     "start_time": "2022-07-09T17:01:59.615109",
     "status": "completed"
    },
    "tags": [],
    "id": "cb10223f",
    "pycharm": {
     "name": "#%%\n"
    }
   },
   "outputs": [],
   "source": [
    "import pandas as pd\n",
    "import numpy as np\n",
    "import os\n",
    "import matplotlib.pyplot as plt\n",
    "import seaborn as sns\n",
    "import warnings\n",
    "\n",
    "import tensorflow as tf\n",
    "from tensorflow.keras.preprocessing.image import load_img\n",
    "from tensorflow.keras.models import Sequential, Model\n",
    "from tensorflow.keras.layers import Dense, Conv2D, Dropout, Flatten, MaxPooling2D, Input"
   ]
  },
  {
   "cell_type": "markdown",
   "id": "5f86afe4",
   "metadata": {
    "papermill": {
     "duration": 0.096991,
     "end_time": "2022-07-09T17:02:05.484245",
     "exception": false,
     "start_time": "2022-07-09T17:02:05.387254",
     "status": "completed"
    },
    "tags": [],
    "id": "5f86afe4",
    "pycharm": {
     "name": "#%% md\n"
    }
   },
   "source": [
    "### Load Dataset and Create Dataframe"
   ]
  },
  {
   "cell_type": "code",
   "execution_count": 44,
   "id": "722392ad",
   "metadata": {
    "execution": {
     "iopub.execute_input": "2022-07-09T17:02:05.889617Z",
     "iopub.status.busy": "2022-07-09T17:02:05.887853Z",
     "iopub.status.idle": "2022-07-09T17:02:06.025719Z",
     "shell.execute_reply": "2022-07-09T17:02:06.024502Z"
    },
    "papermill": {
     "duration": 0.243924,
     "end_time": "2022-07-09T17:02:06.031153",
     "exception": false,
     "start_time": "2022-07-09T17:02:05.787229",
     "status": "completed"
    },
    "tags": [],
    "id": "722392ad",
    "pycharm": {
     "name": "#%%\n"
    }
   },
   "outputs": [],
   "source": [
    "images = []\n",
    "ages = []\n",
    "genders = []\n",
    "races = []\n",
    "\n",
    "for filename in os.listdir('./UTKFace/'):\n",
    "    image = os.path.join('./UTKFace/', filename)\n",
    "    line = filename.split('_')\n",
    "    age = int(line[0])\n",
    "    gender = int(line[1])\n",
    "    try:\n",
    "      race = int(line[2])\n",
    "    except:\n",
    "      race = 5\n",
    "    races.append(race)\n",
    "    images.append(image) \n",
    "    ages.append(age)\n",
    "    genders.append(gender)"
   ]
  },
  {
   "cell_type": "code",
   "execution_count": 45,
   "id": "2218d64a",
   "metadata": {
    "execution": {
     "iopub.execute_input": "2022-07-09T17:02:06.230364Z",
     "iopub.status.busy": "2022-07-09T17:02:06.229895Z",
     "iopub.status.idle": "2022-07-09T17:02:06.280121Z",
     "shell.execute_reply": "2022-07-09T17:02:06.279213Z"
    },
    "papermill": {
     "duration": 0.152951,
     "end_time": "2022-07-09T17:02:06.282062",
     "exception": false,
     "start_time": "2022-07-09T17:02:06.129111",
     "status": "completed"
    },
    "tags": [],
    "colab": {
     "base_uri": "https://localhost:8080/",
     "height": 677
    },
    "id": "2218d64a",
    "outputId": "a1704a3b-75a2-413c-b17f-e21d75797705",
    "pycharm": {
     "name": "#%%\n"
    }
   },
   "outputs": [
    {
     "output_type": "execute_result",
     "data": {
      "text/plain": [
       "                                              image  age  gender  race\n",
       "0   ./UTKFace/25_1_4_20161220222242243.jpg.chip.jpg   25       1     4\n",
       "1   ./UTKFace/24_0_1_20170117130104056.jpg.chip.jpg   24       0     1\n",
       "2   ./UTKFace/47_1_0_20170104184702870.jpg.chip.jpg   47       1     0\n",
       "3   ./UTKFace/70_1_0_20170110123134893.jpg.chip.jpg   70       1     0\n",
       "4   ./UTKFace/73_0_0_20170120230235659.jpg.chip.jpg   73       0     0\n",
       "5   ./UTKFace/46_0_0_20170104184807318.jpg.chip.jpg   46       0     0\n",
       "6   ./UTKFace/27_0_2_20170116184846062.jpg.chip.jpg   27       0     2\n",
       "7   ./UTKFace/36_0_1_20170112213546077.jpg.chip.jpg   36       0     1\n",
       "8    ./UTKFace/1_0_0_20170110213202543.jpg.chip.jpg    1       0     0\n",
       "9   ./UTKFace/26_1_3_20170119192405417.jpg.chip.jpg   26       1     3\n",
       "10  ./UTKFace/55_0_0_20170120221314028.jpg.chip.jpg   55       0     0\n",
       "11  ./UTKFace/25_1_0_20170117143946804.jpg.chip.jpg   25       1     0\n",
       "12  ./UTKFace/38_0_1_20170113174609987.jpg.chip.jpg   38       0     1\n",
       "13  ./UTKFace/62_0_1_20170113154852003.jpg.chip.jpg   62       0     1\n",
       "14  ./UTKFace/25_1_0_20170117151432922.jpg.chip.jpg   25       1     0\n",
       "15  ./UTKFace/17_0_1_20170116182454836.jpg.chip.jpg   17       0     1\n",
       "16  ./UTKFace/74_1_1_20170120223559844.jpg.chip.jpg   74       1     1\n",
       "17  ./UTKFace/16_0_0_20170110231720674.jpg.chip.jpg   16       0     0\n",
       "18  ./UTKFace/27_1_2_20161219204245668.jpg.chip.jpg   27       1     2\n",
       "19  ./UTKFace/43_0_1_20170117175110498.jpg.chip.jpg   43       0     1"
      ],
      "text/html": [
       "\n",
       "  <div id=\"df-3d193a1d-9076-420e-be46-51e43a83fe05\">\n",
       "    <div class=\"colab-df-container\">\n",
       "      <div>\n",
       "<style scoped>\n",
       "    .dataframe tbody tr th:only-of-type {\n",
       "        vertical-align: middle;\n",
       "    }\n",
       "\n",
       "    .dataframe tbody tr th {\n",
       "        vertical-align: top;\n",
       "    }\n",
       "\n",
       "    .dataframe thead th {\n",
       "        text-align: right;\n",
       "    }\n",
       "</style>\n",
       "<table border=\"1\" class=\"dataframe\">\n",
       "  <thead>\n",
       "    <tr style=\"text-align: right;\">\n",
       "      <th></th>\n",
       "      <th>image</th>\n",
       "      <th>age</th>\n",
       "      <th>gender</th>\n",
       "      <th>race</th>\n",
       "    </tr>\n",
       "  </thead>\n",
       "  <tbody>\n",
       "    <tr>\n",
       "      <th>0</th>\n",
       "      <td>./UTKFace/25_1_4_20161220222242243.jpg.chip.jpg</td>\n",
       "      <td>25</td>\n",
       "      <td>1</td>\n",
       "      <td>4</td>\n",
       "    </tr>\n",
       "    <tr>\n",
       "      <th>1</th>\n",
       "      <td>./UTKFace/24_0_1_20170117130104056.jpg.chip.jpg</td>\n",
       "      <td>24</td>\n",
       "      <td>0</td>\n",
       "      <td>1</td>\n",
       "    </tr>\n",
       "    <tr>\n",
       "      <th>2</th>\n",
       "      <td>./UTKFace/47_1_0_20170104184702870.jpg.chip.jpg</td>\n",
       "      <td>47</td>\n",
       "      <td>1</td>\n",
       "      <td>0</td>\n",
       "    </tr>\n",
       "    <tr>\n",
       "      <th>3</th>\n",
       "      <td>./UTKFace/70_1_0_20170110123134893.jpg.chip.jpg</td>\n",
       "      <td>70</td>\n",
       "      <td>1</td>\n",
       "      <td>0</td>\n",
       "    </tr>\n",
       "    <tr>\n",
       "      <th>4</th>\n",
       "      <td>./UTKFace/73_0_0_20170120230235659.jpg.chip.jpg</td>\n",
       "      <td>73</td>\n",
       "      <td>0</td>\n",
       "      <td>0</td>\n",
       "    </tr>\n",
       "    <tr>\n",
       "      <th>5</th>\n",
       "      <td>./UTKFace/46_0_0_20170104184807318.jpg.chip.jpg</td>\n",
       "      <td>46</td>\n",
       "      <td>0</td>\n",
       "      <td>0</td>\n",
       "    </tr>\n",
       "    <tr>\n",
       "      <th>6</th>\n",
       "      <td>./UTKFace/27_0_2_20170116184846062.jpg.chip.jpg</td>\n",
       "      <td>27</td>\n",
       "      <td>0</td>\n",
       "      <td>2</td>\n",
       "    </tr>\n",
       "    <tr>\n",
       "      <th>7</th>\n",
       "      <td>./UTKFace/36_0_1_20170112213546077.jpg.chip.jpg</td>\n",
       "      <td>36</td>\n",
       "      <td>0</td>\n",
       "      <td>1</td>\n",
       "    </tr>\n",
       "    <tr>\n",
       "      <th>8</th>\n",
       "      <td>./UTKFace/1_0_0_20170110213202543.jpg.chip.jpg</td>\n",
       "      <td>1</td>\n",
       "      <td>0</td>\n",
       "      <td>0</td>\n",
       "    </tr>\n",
       "    <tr>\n",
       "      <th>9</th>\n",
       "      <td>./UTKFace/26_1_3_20170119192405417.jpg.chip.jpg</td>\n",
       "      <td>26</td>\n",
       "      <td>1</td>\n",
       "      <td>3</td>\n",
       "    </tr>\n",
       "    <tr>\n",
       "      <th>10</th>\n",
       "      <td>./UTKFace/55_0_0_20170120221314028.jpg.chip.jpg</td>\n",
       "      <td>55</td>\n",
       "      <td>0</td>\n",
       "      <td>0</td>\n",
       "    </tr>\n",
       "    <tr>\n",
       "      <th>11</th>\n",
       "      <td>./UTKFace/25_1_0_20170117143946804.jpg.chip.jpg</td>\n",
       "      <td>25</td>\n",
       "      <td>1</td>\n",
       "      <td>0</td>\n",
       "    </tr>\n",
       "    <tr>\n",
       "      <th>12</th>\n",
       "      <td>./UTKFace/38_0_1_20170113174609987.jpg.chip.jpg</td>\n",
       "      <td>38</td>\n",
       "      <td>0</td>\n",
       "      <td>1</td>\n",
       "    </tr>\n",
       "    <tr>\n",
       "      <th>13</th>\n",
       "      <td>./UTKFace/62_0_1_20170113154852003.jpg.chip.jpg</td>\n",
       "      <td>62</td>\n",
       "      <td>0</td>\n",
       "      <td>1</td>\n",
       "    </tr>\n",
       "    <tr>\n",
       "      <th>14</th>\n",
       "      <td>./UTKFace/25_1_0_20170117151432922.jpg.chip.jpg</td>\n",
       "      <td>25</td>\n",
       "      <td>1</td>\n",
       "      <td>0</td>\n",
       "    </tr>\n",
       "    <tr>\n",
       "      <th>15</th>\n",
       "      <td>./UTKFace/17_0_1_20170116182454836.jpg.chip.jpg</td>\n",
       "      <td>17</td>\n",
       "      <td>0</td>\n",
       "      <td>1</td>\n",
       "    </tr>\n",
       "    <tr>\n",
       "      <th>16</th>\n",
       "      <td>./UTKFace/74_1_1_20170120223559844.jpg.chip.jpg</td>\n",
       "      <td>74</td>\n",
       "      <td>1</td>\n",
       "      <td>1</td>\n",
       "    </tr>\n",
       "    <tr>\n",
       "      <th>17</th>\n",
       "      <td>./UTKFace/16_0_0_20170110231720674.jpg.chip.jpg</td>\n",
       "      <td>16</td>\n",
       "      <td>0</td>\n",
       "      <td>0</td>\n",
       "    </tr>\n",
       "    <tr>\n",
       "      <th>18</th>\n",
       "      <td>./UTKFace/27_1_2_20161219204245668.jpg.chip.jpg</td>\n",
       "      <td>27</td>\n",
       "      <td>1</td>\n",
       "      <td>2</td>\n",
       "    </tr>\n",
       "    <tr>\n",
       "      <th>19</th>\n",
       "      <td>./UTKFace/43_0_1_20170117175110498.jpg.chip.jpg</td>\n",
       "      <td>43</td>\n",
       "      <td>0</td>\n",
       "      <td>1</td>\n",
       "    </tr>\n",
       "  </tbody>\n",
       "</table>\n",
       "</div>\n",
       "      <button class=\"colab-df-convert\" onclick=\"convertToInteractive('df-3d193a1d-9076-420e-be46-51e43a83fe05')\"\n",
       "              title=\"Convert this dataframe to an interactive table.\"\n",
       "              style=\"display:none;\">\n",
       "        \n",
       "  <svg xmlns=\"http://www.w3.org/2000/svg\" height=\"24px\"viewBox=\"0 0 24 24\"\n",
       "       width=\"24px\">\n",
       "    <path d=\"M0 0h24v24H0V0z\" fill=\"none\"/>\n",
       "    <path d=\"M18.56 5.44l.94 2.06.94-2.06 2.06-.94-2.06-.94-.94-2.06-.94 2.06-2.06.94zm-11 1L8.5 8.5l.94-2.06 2.06-.94-2.06-.94L8.5 2.5l-.94 2.06-2.06.94zm10 10l.94 2.06.94-2.06 2.06-.94-2.06-.94-.94-2.06-.94 2.06-2.06.94z\"/><path d=\"M17.41 7.96l-1.37-1.37c-.4-.4-.92-.59-1.43-.59-.52 0-1.04.2-1.43.59L10.3 9.45l-7.72 7.72c-.78.78-.78 2.05 0 2.83L4 21.41c.39.39.9.59 1.41.59.51 0 1.02-.2 1.41-.59l7.78-7.78 2.81-2.81c.8-.78.8-2.07 0-2.86zM5.41 20L4 18.59l7.72-7.72 1.47 1.35L5.41 20z\"/>\n",
       "  </svg>\n",
       "      </button>\n",
       "      \n",
       "  <style>\n",
       "    .colab-df-container {\n",
       "      display:flex;\n",
       "      flex-wrap:wrap;\n",
       "      gap: 12px;\n",
       "    }\n",
       "\n",
       "    .colab-df-convert {\n",
       "      background-color: #E8F0FE;\n",
       "      border: none;\n",
       "      border-radius: 50%;\n",
       "      cursor: pointer;\n",
       "      display: none;\n",
       "      fill: #1967D2;\n",
       "      height: 32px;\n",
       "      padding: 0 0 0 0;\n",
       "      width: 32px;\n",
       "    }\n",
       "\n",
       "    .colab-df-convert:hover {\n",
       "      background-color: #E2EBFA;\n",
       "      box-shadow: 0px 1px 2px rgba(60, 64, 67, 0.3), 0px 1px 3px 1px rgba(60, 64, 67, 0.15);\n",
       "      fill: #174EA6;\n",
       "    }\n",
       "\n",
       "    [theme=dark] .colab-df-convert {\n",
       "      background-color: #3B4455;\n",
       "      fill: #D2E3FC;\n",
       "    }\n",
       "\n",
       "    [theme=dark] .colab-df-convert:hover {\n",
       "      background-color: #434B5C;\n",
       "      box-shadow: 0px 1px 3px 1px rgba(0, 0, 0, 0.15);\n",
       "      filter: drop-shadow(0px 1px 2px rgba(0, 0, 0, 0.3));\n",
       "      fill: #FFFFFF;\n",
       "    }\n",
       "  </style>\n",
       "\n",
       "      <script>\n",
       "        const buttonEl =\n",
       "          document.querySelector('#df-3d193a1d-9076-420e-be46-51e43a83fe05 button.colab-df-convert');\n",
       "        buttonEl.style.display =\n",
       "          google.colab.kernel.accessAllowed ? 'block' : 'none';\n",
       "\n",
       "        async function convertToInteractive(key) {\n",
       "          const element = document.querySelector('#df-3d193a1d-9076-420e-be46-51e43a83fe05');\n",
       "          const dataTable =\n",
       "            await google.colab.kernel.invokeFunction('convertToInteractive',\n",
       "                                                     [key], {});\n",
       "          if (!dataTable) return;\n",
       "\n",
       "          const docLinkHtml = 'Like what you see? Visit the ' +\n",
       "            '<a target=\"_blank\" href=https://colab.research.google.com/notebooks/data_table.ipynb>data table notebook</a>'\n",
       "            + ' to learn more about interactive tables.';\n",
       "          element.innerHTML = '';\n",
       "          dataTable['output_type'] = 'display_data';\n",
       "          await google.colab.output.renderOutput(dataTable, element);\n",
       "          const docLink = document.createElement('div');\n",
       "          docLink.innerHTML = docLinkHtml;\n",
       "          element.appendChild(docLink);\n",
       "        }\n",
       "      </script>\n",
       "    </div>\n",
       "  </div>\n",
       "  "
      ]
     },
     "metadata": {},
     "execution_count": 45
    }
   ],
   "source": [
    "# convert to dataframe\n",
    "df = pd.DataFrame()\n",
    "df['image'], df['gender'], df['race'], df['age'] = images, ages, genders, races\n",
    "df.head(20)"
   ]
  },
  {
   "cell_type": "code",
   "source": [
    "df.loc[df[\"race\"] == 0, \"race\"] = \"White\"\n",
    "df.loc[df[\"race\"] == 1, \"race\"] = \"Black\"\n",
    "df.loc[df[\"race\"] == 2, \"race\"] = \"Asian\"\n",
    "df.loc[df[\"race\"] == 3, \"race\"] = \"Asian\"\n",
    "df.loc[df[\"race\"] == 4, \"race\"] = \"Other\"\n",
    "df.loc[df[\"race\"] == 5, \"race\"] = \"Other\""
   ],
   "metadata": {
    "id": "r_1QEgux7wKF",
    "pycharm": {
     "name": "#%%\n"
    }
   },
   "id": "r_1QEgux7wKF",
   "execution_count": 7,
   "outputs": []
  },
  {
   "cell_type": "code",
   "source": [
    "df_X = df['image']\n",
    "df_y = df[['age', 'gender']]"
   ],
   "metadata": {
    "id": "55kn3qg5jmGV",
    "pycharm": {
     "name": "#%%\n"
    }
   },
   "id": "55kn3qg5jmGV",
   "execution_count": 46,
   "outputs": []
  },
  {
   "cell_type": "code",
   "source": [
    "# map labels for gender\n",
    "gender_dict = {0:'Male', 1:'Female'}\n",
    "race_dict = {0: \"White\", 1: \"Black\", 2: \"Asian\", 3: \"Indian\", 4: \"Others\"}"
   ],
   "metadata": {
    "id": "vk7J08BZjp1S",
    "pycharm": {
     "name": "#%%\n"
    }
   },
   "id": "vk7J08BZjp1S",
   "execution_count": null,
   "outputs": []
  },
  {
   "cell_type": "markdown",
   "source": [
    "### Plot Data"
   ],
   "metadata": {
    "id": "4dXsK4J3jd8Y",
    "pycharm": {
     "name": "#%% md\n"
    }
   },
   "id": "4dXsK4J3jd8Y"
  },
  {
   "cell_type": "code",
   "source": [
    "df['race'].value_counts().plot(kind='bar', title = \"No. Each Race\")"
   ],
   "metadata": {
    "colab": {
     "base_uri": "https://localhost:8080/",
     "height": 318
    },
    "id": "OkGp7k8x8ip-",
    "outputId": "c270095f-b8c2-487f-b69f-57958453ae9d",
    "pycharm": {
     "name": "#%%\n"
    }
   },
   "id": "OkGp7k8x8ip-",
   "execution_count": 8,
   "outputs": [
    {
     "output_type": "execute_result",
     "data": {
      "text/plain": [
       "<matplotlib.axes._subplots.AxesSubplot at 0x7fe92420f6a0>"
      ]
     },
     "metadata": {},
     "execution_count": 8
    },
    {
     "output_type": "display_data",
     "data": {
      "text/plain": [
       "<Figure size 432x288 with 1 Axes>"
      ],
      "image/png": "[encoded data removed]"
     },
     "metadata": {
      "needs_background": "light"
     }
    }
   ]
  },
  {
   "cell_type": "code",
   "source": [
    "df['age'].hist()"
   ],
   "metadata": {
    "colab": {
     "base_uri": "https://localhost:8080/",
     "height": 283
    },
    "id": "8K1YpAc0PRCJ",
    "outputId": "aea138e8-b435-40b4-c8e7-86582462752e",
    "pycharm": {
     "name": "#%%\n"
    }
   },
   "id": "8K1YpAc0PRCJ",
   "execution_count": 9,
   "outputs": [
    {
     "output_type": "execute_result",
     "data": {
      "text/plain": [
       "<matplotlib.axes._subplots.AxesSubplot at 0x7fe924154e80>"
      ]
     },
     "metadata": {},
     "execution_count": 9
    },
    {
     "output_type": "display_data",
     "data": {
      "text/plain": [
       "<Figure size 432x288 with 1 Axes>"
      ],
      "image/png": "[encoded data removed]"
     },
     "metadata": {
      "needs_background": "light"
     }
    }
   ]
  },
  {
   "cell_type": "code",
   "source": [
    "from sklearn.model_selection import train_test_split\n",
    "X_train, X_test, y_train, y_test = train_test_split(df_X, df_y, test_size=0.2, random_state=42)"
   ],
   "metadata": {
    "id": "meYO3WfIUy1x",
    "pycharm": {
     "name": "#%%\n"
    }
   },
   "id": "meYO3WfIUy1x",
   "execution_count": 47,
   "outputs": []
  },
  {
   "cell_type": "markdown",
   "id": "b378f897",
   "metadata": {
    "papermill": {
     "duration": 0.11627,
     "end_time": "2022-07-09T17:02:10.366996",
     "exception": false,
     "start_time": "2022-07-09T17:02:10.250726",
     "status": "completed"
    },
    "tags": [],
    "id": "b378f897",
    "pycharm": {
     "name": "#%% md\n"
    }
   },
   "source": [
    "### Image transformation"
   ]
  },
  {
   "cell_type": "code",
   "execution_count": 48,
   "id": "5e0627e1",
   "metadata": {
    "execution": {
     "iopub.execute_input": "2022-07-09T17:02:10.774915Z",
     "iopub.status.busy": "2022-07-09T17:02:10.774570Z",
     "iopub.status.idle": "2022-07-09T17:02:10.781147Z",
     "shell.execute_reply": "2022-07-09T17:02:10.780064Z"
    },
    "papermill": {
     "duration": 0.299493,
     "end_time": "2022-07-09T17:02:10.783743",
     "exception": false,
     "start_time": "2022-07-09T17:02:10.484250",
     "status": "completed"
    },
    "tags": [],
    "id": "5e0627e1",
    "pycharm": {
     "name": "#%%\n"
    }
   },
   "outputs": [],
   "source": [
    "from PIL import Image\n",
    "\n",
    "def transform_images(images_input):\n",
    "    images = []\n",
    "    for image in images_input:\n",
    "        img = load_img(image, grayscale=True)\n",
    "        img = img.resize((128, 128), Image.ANTIALIAS)\n",
    "        img = np.array(img)\n",
    "        images.append(img)\n",
    "      \n",
    "    images = np.array(images)\n",
    "    images = images.reshape(len(images), 128, 128, 1)\n",
    "    return images"
   ]
  },
  {
   "cell_type": "code",
   "execution_count": 49,
   "id": "8b7f881e",
   "metadata": {
    "execution": {
     "iopub.execute_input": "2022-07-09T17:02:11.021828Z",
     "iopub.status.busy": "2022-07-09T17:02:11.019690Z",
     "iopub.status.idle": "2022-07-09T17:03:49.419307Z",
     "shell.execute_reply": "2022-07-09T17:03:49.418358Z"
    },
    "papermill": {
     "duration": 98.520116,
     "end_time": "2022-07-09T17:03:49.421756",
     "exception": false,
     "start_time": "2022-07-09T17:02:10.901640",
     "status": "completed"
    },
    "tags": [],
    "colab": {
     "base_uri": "https://localhost:8080/"
    },
    "id": "8b7f881e",
    "outputId": "f37c082f-6f08-4834-a3c3-4f389a0b385e",
    "pycharm": {
     "name": "#%%\n"
    }
   },
   "outputs": [
    {
     "output_type": "stream",
     "name": "stderr",
     "text": [
      "/usr/local/lib/python3.8/dist-packages/keras/utils/image_utils.py:382: UserWarning: grayscale is deprecated. Please use color_mode = \"grayscale\"\n",
      "  warnings.warn('grayscale is deprecated. Please use '\n"
     ]
    },
    {
     "output_type": "stream",
     "name": "stdout",
     "text": [
      "(18966, 128, 128, 1) (4742, 128, 128, 1)\n"
     ]
    }
   ],
   "source": [
    "X_train = transform_images(X_train)\n",
    "X_train = X_train/255.0\n",
    "X_test = transform_images(X_test)\n",
    "X_test = X_test/255.0\n",
    "\n",
    "print(X_train.shape, X_test.shape)"
   ]
  },
  {
   "cell_type": "code",
   "execution_count": 51,
   "id": "cd846b5a",
   "metadata": {
    "execution": {
     "iopub.execute_input": "2022-07-09T17:03:51.083747Z",
     "iopub.status.busy": "2022-07-09T17:03:51.083184Z",
     "iopub.status.idle": "2022-07-09T17:03:51.089417Z",
     "shell.execute_reply": "2022-07-09T17:03:51.088402Z"
    },
    "papermill": {
     "duration": 0.124801,
     "end_time": "2022-07-09T17:03:51.091585",
     "exception": false,
     "start_time": "2022-07-09T17:03:50.966784",
     "status": "completed"
    },
    "tags": [],
    "id": "cd846b5a",
    "pycharm": {
     "name": "#%%\n"
    }
   },
   "outputs": [],
   "source": [
    "y_gender = np.array(y_train['gender'])\n",
    "y_age = np.array(y_train['age'])\n",
    "\n",
    "y_gender_test = np.array(y_test['gender'])\n",
    "y_age_test = np.array(y_test['age'])"
   ]
  },
  {
   "cell_type": "markdown",
   "id": "fcb52b65",
   "metadata": {
    "papermill": {
     "duration": 0.113678,
     "end_time": "2022-07-09T17:03:51.558229",
     "exception": false,
     "start_time": "2022-07-09T17:03:51.444551",
     "status": "completed"
    },
    "tags": [],
    "id": "fcb52b65",
    "pycharm": {
     "name": "#%% md\n"
    }
   },
   "source": [
    "### Model Format"
   ]
  },
  {
   "cell_type": "code",
   "execution_count": 52,
   "id": "0db77057",
   "metadata": {
    "execution": {
     "iopub.execute_input": "2022-07-09T17:03:51.792022Z",
     "iopub.status.busy": "2022-07-09T17:03:51.791551Z",
     "iopub.status.idle": "2022-07-09T17:03:54.460135Z",
     "shell.execute_reply": "2022-07-09T17:03:54.459181Z"
    },
    "papermill": {
     "duration": 2.789521,
     "end_time": "2022-07-09T17:03:54.462484",
     "exception": false,
     "start_time": "2022-07-09T17:03:51.672963",
     "status": "completed"
    },
    "tags": [],
    "id": "0db77057",
    "pycharm": {
     "name": "#%%\n"
    }
   },
   "outputs": [],
   "source": [
    "inputs = Input(((128, 128, 1)))\n",
    "convolution_1 = Conv2D(64, kernel_size=(3, 3), activation='relu') (inputs)\n",
    "maxpooling_1 = MaxPooling2D(pool_size=(2, 2)) (convolution_1)\n",
    "convolution_2 = Conv2D(128, kernel_size=(3, 3), activation='relu') (maxpooling_1)\n",
    "maxpooling_2 = MaxPooling2D(pool_size=(2, 2)) (convolution_2)\n",
    "convolution_3 = Conv2D(256, kernel_size=(3, 3), activation='relu', kernel_regularizer =tf.keras.regularizers.l2( l=0.01)) (maxpooling_2)\n",
    "maxpooling_3 = MaxPooling2D(pool_size=(2, 2)) (convolution_3)\n",
    "\n",
    "flatten = Flatten() (maxpooling_3)\n",
    "\n",
    "dense_layer_1 = Dense(256, activation='relu', kernel_regularizer =tf.keras.regularizers.l2( l=0.01)) (flatten)\n",
    "dense_layer_2 = Dense(256, activation='relu', kernel_regularizer =tf.keras.regularizers.l2( l=0.01)) (flatten)\n",
    "\n",
    "dropout_layer_1 = Dropout(0.3) (dense_layer_1)\n",
    "dropout_layer_2 = Dropout(0.3) (dense_layer_2)\n",
    "\n",
    "output_layer_1 = Dense(1, activation='sigmoid', name='gender') (dropout_layer_1)\n",
    "output_layer_2 = Dense(1, activation='relu', name='ages') (dropout_layer_2)\n",
    "\n",
    "model = Model(inputs=[inputs], outputs=[output_layer_1, output_layer_2])\n",
    "\n",
    "model.compile(loss=['binary_crossentropy', 'mae'], optimizer='adam', metrics=['accuracy'])"
   ]
  },
  {
   "cell_type": "code",
   "execution_count": 5,
   "id": "d46154e4",
   "metadata": {
    "execution": {
     "iopub.execute_input": "2022-07-09T17:03:54.907250Z",
     "iopub.status.busy": "2022-07-09T17:03:54.906893Z",
     "iopub.status.idle": "2022-07-09T17:03:56.382395Z",
     "shell.execute_reply": "2022-07-09T17:03:56.381302Z"
    },
    "papermill": {
     "duration": 1.700838,
     "end_time": "2022-07-09T17:03:56.384511",
     "exception": false,
     "start_time": "2022-07-09T17:03:54.683673",
     "status": "completed"
    },
    "tags": [],
    "colab": {
     "base_uri": "https://localhost:8080/",
     "height": 1000
    },
    "id": "d46154e4",
    "outputId": "e41af16d-d5c5-4cc6-899d-886fe04ebfc2",
    "pycharm": {
     "name": "#%%\n"
    }
   },
   "outputs": [
    {
     "output_type": "execute_result",
     "data": {
      "image/png": "[encoded data removed]",
      "text/plain": [
       "<IPython.core.display.Image object>"
      ]
     },
     "metadata": {},
     "execution_count": 5
    }
   ],
   "source": [
    "from tensorflow.keras.utils import plot_model\n",
    "plot_model(model)"
   ]
  },
  {
   "cell_type": "markdown",
   "source": [
    "### Train Model"
   ],
   "metadata": {
    "id": "zW-y6Tz4mEl2",
    "pycharm": {
     "name": "#%% md\n"
    }
   },
   "id": "zW-y6Tz4mEl2"
  },
  {
   "cell_type": "code",
   "execution_count": null,
   "id": "07781566",
   "metadata": {
    "execution": {
     "iopub.execute_input": "2022-07-09T17:03:56.615906Z",
     "iopub.status.busy": "2022-07-09T17:03:56.615114Z",
     "iopub.status.idle": "2022-07-09T17:08:22.256763Z",
     "shell.execute_reply": "2022-07-09T17:08:22.255693Z"
    },
    "papermill": {
     "duration": 265.762522,
     "end_time": "2022-07-09T17:08:22.259433",
     "exception": false,
     "start_time": "2022-07-09T17:03:56.496911",
     "status": "completed"
    },
    "tags": [],
    "colab": {
     "base_uri": "https://localhost:8080/"
    },
    "id": "07781566",
    "outputId": "e1725da5-036f-4b9c-86b9-8d485cbdc44f",
    "pycharm": {
     "name": "#%%\n"
    }
   },
   "outputs": [
    {
     "output_type": "stream",
     "name": "stdout",
     "text": [
      "Epoch 1/15\n",
      "122/475 [======>.......................] - ETA: 17:10 - loss: 20.9494 - gender_out_loss: 0.7342 - age_out_loss: 18.1315 - gender_out_accuracy: 0.5499 - age_out_accuracy: 0.0451"
     ]
    }
   ],
   "source": [
    "history = model.fit(x=X_train, y=[y_gender, y_age], batch_size=32, epochs=15, validation_split=0.2)"
   ]
  },
  {
   "cell_type": "markdown",
   "source": [
    "### Assess Accuracy"
   ],
   "metadata": {
    "id": "SGlqlbjEmIAW",
    "pycharm": {
     "name": "#%% md\n"
    }
   },
   "id": "SGlqlbjEmIAW"
  },
  {
   "cell_type": "code",
   "source": [
    "ages = []\n",
    "genders = []\n",
    "for i in range(X_test.shape[0]):\n",
    "  pred = model.predict(X_test[i].reshape(1,128,128,1))\n",
    "  pred_gender = round(pred[0][0][0])\n",
    "  pred_age = round(pred[1][0][0])\n",
    "  if pred_age == y_age_test[i]:\n",
    "    ages.append(True)\n",
    "  if pred_gender == y_gender_test[i]:\n",
    "    genders.append(True)"
   ],
   "metadata": {
    "id": "PfOm1lDb7_cO",
    "pycharm": {
     "name": "#%%\n"
    }
   },
   "id": "PfOm1lDb7_cO",
   "execution_count": null,
   "outputs": []
  },
  {
   "cell_type": "code",
   "source": [
    "sum(np.array(genders))/X_test.shape[0]"
   ],
   "metadata": {
    "id": "aD7-0XNE6sAW",
    "pycharm": {
     "name": "#%%\n"
    }
   },
   "id": "aD7-0XNE6sAW",
   "execution_count": null,
   "outputs": []
  },
  {
   "cell_type": "code",
   "source": [
    "sum(np.array(ages))/X_test.shape[0]"
   ],
   "metadata": {
    "id": "GTFwp66l7nDz",
    "pycharm": {
     "name": "#%%\n"
    }
   },
   "id": "GTFwp66l7nDz",
   "execution_count": null,
   "outputs": []
  },
  {
   "cell_type": "markdown",
   "id": "0c902086",
   "metadata": {
    "papermill": {
     "duration": 0.345539,
     "end_time": "2022-07-09T17:08:23.013013",
     "exception": false,
     "start_time": "2022-07-09T17:08:22.667474",
     "status": "completed"
    },
    "tags": [],
    "id": "0c902086",
    "pycharm": {
     "name": "#%% md\n"
    }
   },
   "source": [
    "### Plot Loss and Accuracy"
   ]
  },
  {
   "cell_type": "code",
   "execution_count": null,
   "id": "f732bb7e",
   "metadata": {
    "execution": {
     "iopub.execute_input": "2022-07-09T17:08:23.893804Z",
     "iopub.status.busy": "2022-07-09T17:08:23.893276Z",
     "iopub.status.idle": "2022-07-09T17:08:24.302249Z",
     "shell.execute_reply": "2022-07-09T17:08:24.301366Z"
    },
    "papermill": {
     "duration": 0.946909,
     "end_time": "2022-07-09T17:08:24.304433",
     "exception": false,
     "start_time": "2022-07-09T17:08:23.357524",
     "status": "completed"
    },
    "tags": [],
    "id": "f732bb7e",
    "pycharm": {
     "name": "#%%\n"
    }
   },
   "outputs": [],
   "source": [
    "# plot results for gender\n",
    "acc = history.history['gender_accuracy']\n",
    "val_acc = history.history['val_gender_accuracy']\n",
    "epochs = range(len(acc))\n",
    "\n",
    "plt.plot(epochs, acc, 'b', label='Training Accuracy')\n",
    "plt.plot(epochs, val_acc, 'r', label='Validation Accuracy')\n",
    "plt.title('Gender Accuracy Graph')\n",
    "plt.legend()\n",
    "plt.figure()\n",
    "\n",
    "loss = history.history['gender_loss']\n",
    "val_loss = history.history['val_gender_loss']\n",
    "\n",
    "plt.plot(epochs, loss, 'b', label='Training Loss')\n",
    "plt.plot(epochs, val_loss, 'r', label='Validation Loss')\n",
    "plt.title('Gender Loss Graph')\n",
    "plt.legend()\n",
    "plt.show()"
   ]
  },
  {
   "cell_type": "code",
   "execution_count": null,
   "id": "6752aec4",
   "metadata": {
    "execution": {
     "iopub.execute_input": "2022-07-09T17:08:25.033664Z",
     "iopub.status.busy": "2022-07-09T17:08:25.033156Z",
     "iopub.status.idle": "2022-07-09T17:08:25.214797Z",
     "shell.execute_reply": "2022-07-09T17:08:25.213919Z"
    },
    "papermill": {
     "duration": 0.532957,
     "end_time": "2022-07-09T17:08:25.216757",
     "exception": false,
     "start_time": "2022-07-09T17:08:24.683800",
     "status": "completed"
    },
    "tags": [],
    "id": "6752aec4",
    "pycharm": {
     "name": "#%%\n"
    }
   },
   "outputs": [],
   "source": [
    "# plot results for age\n",
    "loss = history.history['ages_loss']\n",
    "val_loss = history.history['val_ages_loss']\n",
    "epochs = range(len(loss))\n",
    "\n",
    "plt.plot(epochs, loss, 'b', label='Training Loss')\n",
    "plt.plot(epochs, val_loss, 'r'           \n",
    "         , label='Validation Loss')\n",
    "plt.title('Age Loss Graph')\n",
    "plt.legend()\n",
    "plt.show()\n"
   ]
  }
 ],
 "metadata": {
  "kernelspec": {
   "display_name": "Python 3",
   "language": "python",
   "name": "python3"
  },
  "language_info": {
   "codemirror_mode": {
    "name": "ipython",
    "version": 3
   },
   "file_extension": ".py",
   "mimetype": "text/x-python",
   "name": "python",
   "nbconvert_exporter": "python",
   "pygments_lexer": "ipython3",
   "version": "3.7.12"
  },
  "papermill": {
   "default_parameters": {},
   "duration": 425.692116,
   "end_time": "2022-07-09T17:08:32.420414",
   "environment_variables": {},
   "exception": null,
   "input_path": "__notebook__.ipynb",
   "output_path": "__notebook__.ipynb",
   "parameters": {},
   "start_time": "2022-07-09T17:01:26.728298",
   "version": "2.3.4"
  },
  "colab": {
   "provenance": []
  }
 },
 "nbformat": 4,
 "nbformat_minor": 5
}